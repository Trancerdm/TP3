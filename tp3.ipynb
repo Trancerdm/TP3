{
 "cells": [
  {
   "cell_type": "markdown",
   "metadata": {},
   "source": [
    "ctrl + shift + p \n",
    "selectionner l'interpreteur : my_env "
   ]
  },
  {
   "cell_type": "markdown",
   "metadata": {},
   "source": [
    "EXERCICE 1\n",
    "1) Qu'est ce qu'un service web?\n",
    "Un service web est un protocole d'interface informatique de la famille des technologies web permettant la communication et l'échange de données entre applications et systèmes hétérogènes dans des environnements distribués.\n",
    "\n",
    "2) Une API REST, qu'est-ce que c'est ?\n",
    "-> Application programming interface representational state transfer : \n",
    "C'est une interface de programmation d'application qui respecte les contraintes du style d'architecture REST et permet d'interagir avec les services web RESTful.\n",
    "REST est un style d'architecture logicielle définissant un ensemble de contraintes à utiliser pour créer des services web. \n",
    "\n",
    "3) Qu'est ce qu'une FastAPI?\n",
    "FastAPI est un framework Web moderne et rapide (haute performance) pour la construction d'API"
   ]
  },
  {
   "cell_type": "markdown",
   "metadata": {},
   "source": [
    "EXERCICE 2\n",
    "1) Activez votre environement virtuel\n",
    "my_env\\Scripts\\activate.bat\n",
    "\n",
    "2) Installez les requis : Done"
   ]
  },
  {
   "cell_type": "markdown",
   "metadata": {},
   "source": [
    "Notes: \n",
    "\n",
    "ping nomdusite\n",
    "\n",
    "pour commit \n",
    "git add nom\n",
    "git commit -m \"message\"\n",
    "git pull origin main \n",
    "git push -u origin main \n",
    "\n",
    "Lancer le server : \n",
    "uvicorn webserv:app --reload\n",
    "Lancer le client :\n",
    "python client_graphique.py"
   ]
  },
  {
   "cell_type": "code",
   "execution_count": null,
   "metadata": {},
   "outputs": [],
   "source": []
  }
 ],
 "metadata": {
  "language_info": {
   "name": "python"
  },
  "orig_nbformat": 4
 },
 "nbformat": 4,
 "nbformat_minor": 2
}
